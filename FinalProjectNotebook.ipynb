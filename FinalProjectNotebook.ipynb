{
 "cells": [
  {
   "cell_type": "markdown",
   "id": "f98b763c",
   "metadata": {},
   "source": [
    "Our project will be to analyze the Housing Market & Prices. \n",
    "\n",
    "The data will be retrived from: https://www.kaggle.com/datasets/rukenmissonnier/final-house\n"
   ]
  },
  {
   "cell_type": "code",
   "execution_count": 17,
   "id": "a0427e7d",
   "metadata": {},
   "outputs": [],
   "source": [
    "import pandas as pd\n",
    "import numpy as np\n",
    "import matplotlib.pyplot as plt\n",
    "from sklearn.tree import DecisionTreeClassifier\n",
    "from sklearn.model_selection import train_test_split\n",
    "from sklearn.preprocessing import StandardScaler\n",
    "from sklearn.linear_model import LogisticRegression\n",
    "from sklearn.metrics import accuracy_score\n",
    "from sklearn.ensemble import RandomForestRegressor\n",
    "from sklearn.metrics import mean_squared_error\n",
    "from sklearn.model_selection import cross_val_score"
   ]
  },
  {
   "cell_type": "markdown",
   "id": "6dbe1d0b",
   "metadata": {},
   "source": [
    "The Dataset is going to be a downloaded file called: house.csv"
   ]
  },
  {
   "cell_type": "code",
   "execution_count": 18,
   "id": "ea0ac222",
   "metadata": {},
   "outputs": [
    {
     "name": "stdout",
     "output_type": "stream",
     "text": [
      "\n",
      "HEAD OF THE DATAFRAME\n",
      "   bedroom_count    net_sqm  center_distance  metro_distance  floor  age  \\\n",
      "0              1  26.184098          1286.68      204.003817     22   67   \n",
      "1              1  34.866901          1855.25      186.980360      8   30   \n",
      "2              1  36.980709           692.09      111.224999     24   24   \n",
      "3              1  17.445723          1399.49      237.998760      1   66   \n",
      "4              1  52.587646            84.65      100.996399     20    3   \n",
      "\n",
      "         price  \n",
      "0  96004.80456  \n",
      "1  92473.72257  \n",
      "2  98112.51994  \n",
      "3  92118.32687  \n",
      "4  98976.65318  \n",
      "\n",
      "INFORMATION ABOUT THE DATAFRAME\n",
      "<class 'pandas.core.frame.DataFrame'>\n",
      "RangeIndex: 4308 entries, 0 to 4307\n",
      "Data columns (total 7 columns):\n",
      " #   Column           Non-Null Count  Dtype  \n",
      "---  ------           --------------  -----  \n",
      " 0   bedroom_count    4308 non-null   int64  \n",
      " 1   net_sqm          4308 non-null   float64\n",
      " 2   center_distance  4308 non-null   float64\n",
      " 3   metro_distance   4308 non-null   float64\n",
      " 4   floor            4308 non-null   int64  \n",
      " 5   age              4308 non-null   int64  \n",
      " 6   price            4308 non-null   float64\n",
      "dtypes: float64(4), int64(3)\n",
      "memory usage: 235.7 KB\n",
      "None\n"
     ]
    }
   ],
   "source": [
    "#Create dataframe from csv\n",
    "df = pd.read_csv(\"house.csv\")\n",
    "\n",
    "#Print the head of the dataframe\n",
    "print(\"\\nHEAD OF THE DATAFRAME\")\n",
    "print(df.head())\n",
    "\n",
    "#Print The information about the dataframe\n",
    "print(\"\\nINFORMATION ABOUT THE DATAFRAME\")\n",
    "print(df.info())\n"
   ]
  },
  {
   "cell_type": "markdown",
   "id": "3995d66d",
   "metadata": {},
   "source": [
    "Examining the Dataframe, We can see that the label is goiing to be a continous quantity. This means that we will have to use <b>Regression</b> to help predict a continuous quanitity, as opposed to classification which predicts discrete class labels."
   ]
  },
  {
   "cell_type": "markdown",
   "id": "1e059103",
   "metadata": {},
   "source": [
    "Next, We will create the feature matrix and the label vector"
   ]
  },
  {
   "cell_type": "code",
   "execution_count": 19,
   "id": "4c6a453b",
   "metadata": {},
   "outputs": [],
   "source": [
    "#Create feature matrix (X)\n",
    "X = df.drop('price', axis=1) # all features besides label\n",
    "\n",
    "#Create label vector (y)\n",
    "y = df['price'] #label"
   ]
  },
  {
   "cell_type": "code",
   "execution_count": 20,
   "id": "c72ad9bf",
   "metadata": {},
   "outputs": [
    {
     "data": {
      "text/html": [
       "<div>\n",
       "<style scoped>\n",
       "    .dataframe tbody tr th:only-of-type {\n",
       "        vertical-align: middle;\n",
       "    }\n",
       "\n",
       "    .dataframe tbody tr th {\n",
       "        vertical-align: top;\n",
       "    }\n",
       "\n",
       "    .dataframe thead th {\n",
       "        text-align: right;\n",
       "    }\n",
       "</style>\n",
       "<table border=\"1\" class=\"dataframe\">\n",
       "  <thead>\n",
       "    <tr style=\"text-align: right;\">\n",
       "      <th></th>\n",
       "      <th>bedroom_count</th>\n",
       "      <th>net_sqm</th>\n",
       "      <th>center_distance</th>\n",
       "      <th>metro_distance</th>\n",
       "      <th>floor</th>\n",
       "      <th>age</th>\n",
       "    </tr>\n",
       "  </thead>\n",
       "  <tbody>\n",
       "    <tr>\n",
       "      <th>0</th>\n",
       "      <td>1</td>\n",
       "      <td>26.184098</td>\n",
       "      <td>1286.68</td>\n",
       "      <td>204.003817</td>\n",
       "      <td>22</td>\n",
       "      <td>67</td>\n",
       "    </tr>\n",
       "    <tr>\n",
       "      <th>1</th>\n",
       "      <td>1</td>\n",
       "      <td>34.866901</td>\n",
       "      <td>1855.25</td>\n",
       "      <td>186.980360</td>\n",
       "      <td>8</td>\n",
       "      <td>30</td>\n",
       "    </tr>\n",
       "    <tr>\n",
       "      <th>2</th>\n",
       "      <td>1</td>\n",
       "      <td>36.980709</td>\n",
       "      <td>692.09</td>\n",
       "      <td>111.224999</td>\n",
       "      <td>24</td>\n",
       "      <td>24</td>\n",
       "    </tr>\n",
       "    <tr>\n",
       "      <th>3</th>\n",
       "      <td>1</td>\n",
       "      <td>17.445723</td>\n",
       "      <td>1399.49</td>\n",
       "      <td>237.998760</td>\n",
       "      <td>1</td>\n",
       "      <td>66</td>\n",
       "    </tr>\n",
       "    <tr>\n",
       "      <th>4</th>\n",
       "      <td>1</td>\n",
       "      <td>52.587646</td>\n",
       "      <td>84.65</td>\n",
       "      <td>100.996399</td>\n",
       "      <td>20</td>\n",
       "      <td>3</td>\n",
       "    </tr>\n",
       "    <tr>\n",
       "      <th>...</th>\n",
       "      <td>...</td>\n",
       "      <td>...</td>\n",
       "      <td>...</td>\n",
       "      <td>...</td>\n",
       "      <td>...</td>\n",
       "      <td>...</td>\n",
       "    </tr>\n",
       "    <tr>\n",
       "      <th>4303</th>\n",
       "      <td>9</td>\n",
       "      <td>175.166533</td>\n",
       "      <td>1299.71</td>\n",
       "      <td>217.739012</td>\n",
       "      <td>2</td>\n",
       "      <td>5</td>\n",
       "    </tr>\n",
       "    <tr>\n",
       "      <th>4304</th>\n",
       "      <td>6</td>\n",
       "      <td>215.352151</td>\n",
       "      <td>1346.36</td>\n",
       "      <td>77.724676</td>\n",
       "      <td>14</td>\n",
       "      <td>5</td>\n",
       "    </tr>\n",
       "    <tr>\n",
       "      <th>4305</th>\n",
       "      <td>5</td>\n",
       "      <td>299.563972</td>\n",
       "      <td>1585.37</td>\n",
       "      <td>235.537881</td>\n",
       "      <td>3</td>\n",
       "      <td>5</td>\n",
       "    </tr>\n",
       "    <tr>\n",
       "      <th>4306</th>\n",
       "      <td>1</td>\n",
       "      <td>29.193907</td>\n",
       "      <td>1896.23</td>\n",
       "      <td>147.223827</td>\n",
       "      <td>4</td>\n",
       "      <td>2</td>\n",
       "    </tr>\n",
       "    <tr>\n",
       "      <th>4307</th>\n",
       "      <td>2</td>\n",
       "      <td>54.437573</td>\n",
       "      <td>255.24</td>\n",
       "      <td>25.524020</td>\n",
       "      <td>18</td>\n",
       "      <td>0</td>\n",
       "    </tr>\n",
       "  </tbody>\n",
       "</table>\n",
       "<p>4308 rows × 6 columns</p>\n",
       "</div>"
      ],
      "text/plain": [
       "      bedroom_count     net_sqm  center_distance  metro_distance  floor  age\n",
       "0                 1   26.184098          1286.68      204.003817     22   67\n",
       "1                 1   34.866901          1855.25      186.980360      8   30\n",
       "2                 1   36.980709           692.09      111.224999     24   24\n",
       "3                 1   17.445723          1399.49      237.998760      1   66\n",
       "4                 1   52.587646            84.65      100.996399     20    3\n",
       "...             ...         ...              ...             ...    ...  ...\n",
       "4303              9  175.166533          1299.71      217.739012      2    5\n",
       "4304              6  215.352151          1346.36       77.724676     14    5\n",
       "4305              5  299.563972          1585.37      235.537881      3    5\n",
       "4306              1   29.193907          1896.23      147.223827      4    2\n",
       "4307              2   54.437573           255.24       25.524020     18    0\n",
       "\n",
       "[4308 rows x 6 columns]"
      ]
     },
     "execution_count": 20,
     "metadata": {},
     "output_type": "execute_result"
    }
   ],
   "source": [
    "#Print X to view feature matrix\n",
    "X"
   ]
  },
  {
   "cell_type": "code",
   "execution_count": 21,
   "id": "34083ea6",
   "metadata": {},
   "outputs": [
    {
     "data": {
      "text/plain": [
       "0        96004.80456\n",
       "1        92473.72257\n",
       "2        98112.51994\n",
       "3        92118.32687\n",
       "4        98976.65318\n",
       "            ...     \n",
       "4303    102707.35620\n",
       "4304     99695.06499\n",
       "4305     93803.71562\n",
       "4306     92914.72913\n",
       "4307     93743.04729\n",
       "Name: price, Length: 4308, dtype: float64"
      ]
     },
     "execution_count": 21,
     "metadata": {},
     "output_type": "execute_result"
    }
   ],
   "source": [
    "#Print y to view label vector\n",
    "y"
   ]
  },
  {
   "cell_type": "markdown",
   "id": "80e18526",
   "metadata": {},
   "source": [
    "We can see here that the label vector are all floats. Therfore we must use a regression algorithm.\n",
    "\n",
    "We will start by splitting the dataset into testing and training sets."
   ]
  },
  {
   "cell_type": "code",
   "execution_count": 22,
   "id": "e37df7f3",
   "metadata": {},
   "outputs": [],
   "source": [
    "#Split the dataset into training and testing sets.\n",
    "X_train, X_test, y_train, y_test = train_test_split(X, y, test_size=0.24, random_state=9)"
   ]
  },
  {
   "cell_type": "markdown",
   "id": "b1f1e089",
   "metadata": {},
   "source": [
    "Since we are working with a continous label, we need to normalize the features."
   ]
  },
  {
   "cell_type": "code",
   "execution_count": 23,
   "id": "66da166d",
   "metadata": {},
   "outputs": [],
   "source": [
    "#Normalize(Scale) the features\n",
    "scaler = StandardScaler()\n",
    "#Normalize the Features and not the target!!!!\n",
    "X_train_normalized = scaler.fit_transform(X_train)\n",
    "X_test_normalized = scaler.transform(X_test)"
   ]
  },
  {
   "cell_type": "markdown",
   "id": "5f03dc7a",
   "metadata": {},
   "source": [
    "We will now be using a linear regression model on the training set\n"
   ]
  },
  {
   "cell_type": "code",
   "execution_count": 24,
   "id": "3ade275d",
   "metadata": {},
   "outputs": [
    {
     "name": "stdout",
     "output_type": "stream",
     "text": [
      "95654.30497786804\n",
      "[  663.19514902  2469.87126012 -1883.76039318   449.13956523\n",
      "   936.31093355  -694.45735193]\n"
     ]
    }
   ],
   "source": [
    "#import\n",
    "from sklearn.linear_model import LinearRegression\n",
    "\n",
    "#instatiate object\n",
    "my_linreg = LinearRegression()\n",
    "\n",
    "#train on training set with normalized x_train\n",
    "my_linreg.fit(X_train_normalized, y_train)\n",
    "\n",
    "#Check the coeeficients of the linear regression model\n",
    "print(my_linreg.intercept_)\n",
    "\n",
    "# printing [Theta1, Theta2, Theta3] using attribute \"coef_\":\n",
    "print(my_linreg.coef_)"
   ]
  },
  {
   "cell_type": "markdown",
   "id": "79dd8857",
   "metadata": {},
   "source": [
    "Using the data we can conclude that the most important feature given is the (net_sqm) feature!\n",
    "\n",
    "Next we will predict price for the testing set"
   ]
  },
  {
   "cell_type": "code",
   "execution_count": 25,
   "id": "7875aabb",
   "metadata": {},
   "outputs": [
    {
     "name": "stdout",
     "output_type": "stream",
     "text": [
      "[ 95992.2180046   91427.61766554  95487.04144494 ...  95509.20639007\n",
      " 105580.2184072   91807.49711338]\n"
     ]
    }
   ],
   "source": [
    "#predict\n",
    "y_prediction = my_linreg.predict(X_test_normalized)\n",
    "\n",
    "print(y_prediction)"
   ]
  },
  {
   "cell_type": "markdown",
   "id": "0177f4b0",
   "metadata": {},
   "source": [
    "Evaluate the Linear Regression Model"
   ]
  },
  {
   "cell_type": "code",
   "execution_count": 26,
   "id": "73545bb6",
   "metadata": {},
   "outputs": [
    {
     "name": "stdout",
     "output_type": "stream",
     "text": [
      "RMSE: 2262.032233241182\n"
     ]
    }
   ],
   "source": [
    "#import metrics\n",
    "from sklearn import metrics\n",
    "#compare the predicted balance with the actual balance by calculating and reporting the RMSE\n",
    "\n",
    "#calculating MSE\n",
    "LR_mse = metrics.mean_squared_error(y_test, y_prediction)\n",
    "\n",
    "#use numpy to find RMMSE\n",
    "LR_rmse = np.sqrt(mse)\n",
    "\n",
    "#print out rmse\n",
    "print(\"RMSE:\",LR_rmse)"
   ]
  },
  {
   "cell_type": "markdown",
   "id": "8b9e373e",
   "metadata": {},
   "source": [
    "We will now use 10-fold cross-validation to evaluate the performance of a linear regression in predicting the price."
   ]
  },
  {
   "cell_type": "code",
   "execution_count": 27,
   "id": "6db40f6e",
   "metadata": {
    "scrolled": true
   },
   "outputs": [
    {
     "name": "stdout",
     "output_type": "stream",
     "text": [
      "[1301.69414799 1305.86450344 1308.7002405  1325.13874027 1295.25423899\n",
      " 1318.09791853 1445.54793491 1468.68923988 3411.30547229 4607.86606463]\n",
      "RMSE with 10-fold Cross-Validation: 1878.8158501438634\n"
     ]
    }
   ],
   "source": [
    "#import pipeline and cross core from sklearn\n",
    "from sklearn.pipeline import make_pipeline\n",
    "from sklearn.model_selection import cross_val_score\n",
    "clf = make_pipeline(StandardScaler(), my_linreg)\n",
    "#make sure to use normalized\n",
    "mse_list = cross_val_score(clf, X, y, cv=10, scoring='neg_mean_squared_error')\n",
    "\n",
    "#make mse postitive to calc rmse\n",
    "mse_list_positive = -mse_list\n",
    "\n",
    "#use numpy to calculate rmse\n",
    "rmse_list = np.sqrt(mse_list_positive)\n",
    "print(rmse_list)\n",
    "\n",
    "#caclculate the mean\n",
    "print(\"RMSE with 10-fold Cross-Validation:\",rmse_list.mean())"
   ]
  },
  {
   "cell_type": "markdown",
   "id": "82f27836",
   "metadata": {},
   "source": [
    "With the RMSE with 10-fold Cross-Validation, we can conclude that the linear regression model is fairly accurate, with the actual value only being off by 1878.81, which is great because our data is high numbers up to the hundreds of thousands. "
   ]
  },
  {
   "cell_type": "code",
   "execution_count": 12,
   "id": "0aa4da54",
   "metadata": {},
   "outputs": [
    {
     "name": "stdout",
     "output_type": "stream",
     "text": [
      "[ 95384.2791824  91518.0542651  94753.7949889 ...  95938.1555211\n",
      " 103542.6584355  91678.5439775]\n"
     ]
    }
   ],
   "source": [
    "random_forest = RandomForestRegressor(n_estimators=100, random_state=9)\n",
    "random_forest.fit(X_train_normalized, y_train)\n",
    "y_prediction_rf = random_forest.predict(X_test_normalized)\n",
    "print(y_prediction_rf)"
   ]
  },
  {
   "cell_type": "code",
   "execution_count": 13,
   "id": "3c892c11",
   "metadata": {},
   "outputs": [
    {
     "name": "stdout",
     "output_type": "stream",
     "text": [
      "RMSE (Random Forest Regression): 2293.7116335782152\n"
     ]
    }
   ],
   "source": [
    "rmse_rf = np.sqrt(mean_squared_error(y_test, y_prediction_rf))\n",
    "print(\"RMSE (Random Forest Regression):\", rmse_rf)"
   ]
  },
  {
   "cell_type": "code",
   "execution_count": 14,
   "id": "18d066dd",
   "metadata": {},
   "outputs": [
    {
     "name": "stdout",
     "output_type": "stream",
     "text": [
      "RMSE with 10-fold Cross-Validation (Random Forest): 2077.1923158084965\n"
     ]
    }
   ],
   "source": [
    "clf_rf = make_pipeline(StandardScaler(), random_forest)\n",
    "mse_list_rf = cross_val_score(clf_rf, X, y, cv=10, scoring='neg_mean_squared_error')\n",
    "\n",
    "\n",
    "#mse_list_rf = cross_val_score(RandomForestRegressor(n_estimators=100, random_state=9),\n",
    "                            #   X, y, cv=10, scoring='neg_mean_squared_error')\n",
    "mse_list_positive_rf = -mse_list_rf\n",
    "rmse_list_rf = np.sqrt(mse_list_positive_rf)\n",
    "print(\"RMSE with 10-fold Cross-Validation (Random Forest):\", rmse_list_rf.mean())"
   ]
  },
  {
   "cell_type": "code",
   "execution_count": 15,
   "id": "0d1409c5",
   "metadata": {},
   "outputs": [
    {
     "data": {
      "image/png": "[encoded data removed]",
      "text/plain": [
       "<Figure size 640x480 with 1 Axes>"
      ]
     },
     "metadata": {},
     "output_type": "display_data"
    }
   ],
   "source": [
    "# Import necessary libraries\n",
    "from sklearn.model_selection import train_test_split\n",
    "from sklearn.preprocessing import StandardScaler\n",
    "from sklearn.metrics import roc_curve, auc\n",
    "from sklearn.linear_model import LogisticRegression\n",
    "from sklearn.tree import DecisionTreeClassifier\n",
    "from sklearn.ensemble import RandomForestClassifier\n",
    "from sklearn.svm import SVC\n",
    "from sklearn.neighbors import KNeighborsClassifier\n",
    "from sklearn.metrics import roc_auc_score\n",
    "import numpy as np\n",
    "import matplotlib.pyplot as plt\n",
    "\n",
    "# Load the dataset\n",
    "data = pd.read_csv('house.csv')\n",
    "\n",
    "# Assuming 'price' is the target variable\n",
    "X = data.drop('price', axis=1)\n",
    "y = data['price']\n",
    "\n",
    "# Convert price to a binary classification problem\n",
    "y = (y > y.median()).astype(int)\n",
    "\n",
    "# Split the dataset into training and test sets\n",
    "X_train, X_test, y_train, y_test = train_test_split(X, y, test_size=0.3, random_state=42)\n",
    "\n",
    "# Standardize the features\n",
    "scaler = StandardScaler()\n",
    "X_train = scaler.fit_transform(X_train)\n",
    "X_test = scaler.transform(X_test)\n",
    "\n",
    "# Define the machine learning models\n",
    "models = {\n",
    "    'Logistic Regression': LogisticRegression(),\n",
    "    'Decision Tree': DecisionTreeClassifier(),\n",
    "    'Random Forest': RandomForestClassifier(),\n",
    "    'SVM': SVC(probability=True),\n",
    "    'KNN': KNeighborsClassifier()\n",
    "}\n",
    "\n",
    "# Dictionary to hold ROC AUC scores\n",
    "roc_auc_scores = {}\n",
    "\n",
    "# Train each model and calculate their ROC AUC\n",
    "for name, model in models.items():\n",
    "    # Train the model\n",
    "    model.fit(X_train, y_train)\n",
    "    \n",
    "    # Predict probabilities\n",
    "    probs = model.predict_proba(X_test)[:, 1]\n",
    "    \n",
    "    # Calculate ROC AUC\n",
    "    roc_auc = roc_auc_score(y_test, probs)\n",
    "    roc_auc_scores[name] = roc_auc\n",
    "\n",
    "    # Calculate ROC Curve\n",
    "    fpr, tpr, _ = roc_curve(y_test, probs)\n",
    "    \n",
    "    # Plot the ROC curve\n",
    "    plt.plot(fpr, tpr, label=f'{name} (AUC = {roc_auc:.2f})')\n",
    "\n",
    "# Plot formatting\n",
    "plt.plot([0, 1], [0, 1], color='navy', lw=2, linestyle='--')\n",
    "plt.xlabel('False Positive Rate')\n",
    "plt.ylabel('True Positive Rate')\n",
    "plt.title('ROC Curves of Various Models')\n",
    "plt.legend(loc='lower right')\n",
    "plt.show()\n"
   ]
  },
  {
   "cell_type": "code",
   "execution_count": null,
   "id": "ab36a20b",
   "metadata": {},
   "outputs": [],
   "source": []
  }
 ],
 "metadata": {
  "kernelspec": {
   "display_name": "Python 3 (ipykernel)",
   "language": "python",
   "name": "python3"
  },
  "language_info": {
   "codemirror_mode": {
    "name": "ipython",
    "version": 3
   },
   "file_extension": ".py",
   "mimetype": "text/x-python",
   "name": "python",
   "nbconvert_exporter": "python",
   "pygments_lexer": "ipython3",
   "version": "3.11.4"
  }
 },
 "nbformat": 4,
 "nbformat_minor": 5
}
