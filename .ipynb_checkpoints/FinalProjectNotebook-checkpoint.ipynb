{
 "cells": [
  {
   "cell_type": "markdown",
   "id": "f98b763c",
   "metadata": {},
   "source": [
    "We can start doing our code for our project here"
   ]
  },
  {
   "cell_type": "code",
   "execution_count": 8,
   "id": "a0427e7d",
   "metadata": {},
   "outputs": [],
   "source": [
    "import pandas as pd\n",
    "import matplotlib.pyplot as plt\n",
    "from sklearn.tree import DecisionTreeClassifier\n",
    "from sklearn.model_selection import train_test_split\n",
    "from sklearn.preprocessing import StandardScaler\n",
    "from sklearn.linear_model import LogisticRegression"
   ]
  },
  {
   "cell_type": "code",
   "execution_count": 9,
   "id": "ea0ac222",
   "metadata": {},
   "outputs": [],
   "source": [
    "df = pd.read_csv(\"house.csv\")"
   ]
  },
  {
   "cell_type": "code",
   "execution_count": 11,
   "id": "4c6a453b",
   "metadata": {},
   "outputs": [],
   "source": [
    "x = df.drop('price', axis=1)\n",
    "y = df['price']"
   ]
  },
  {
   "cell_type": "code",
   "execution_count": 12,
   "id": "c72ad9bf",
   "metadata": {},
   "outputs": [
    {
     "data": {
      "text/html": [
       "<div>\n",
       "<style scoped>\n",
       "    .dataframe tbody tr th:only-of-type {\n",
       "        vertical-align: middle;\n",
       "    }\n",
       "\n",
       "    .dataframe tbody tr th {\n",
       "        vertical-align: top;\n",
       "    }\n",
       "\n",
       "    .dataframe thead th {\n",
       "        text-align: right;\n",
       "    }\n",
       "</style>\n",
       "<table border=\"1\" class=\"dataframe\">\n",
       "  <thead>\n",
       "    <tr style=\"text-align: right;\">\n",
       "      <th></th>\n",
       "      <th>bedroom_count</th>\n",
       "      <th>net_sqm</th>\n",
       "      <th>center_distance</th>\n",
       "      <th>metro_distance</th>\n",
       "      <th>floor</th>\n",
       "      <th>age</th>\n",
       "    </tr>\n",
       "  </thead>\n",
       "  <tbody>\n",
       "    <tr>\n",
       "      <th>0</th>\n",
       "      <td>1</td>\n",
       "      <td>26.184098</td>\n",
       "      <td>1286.68</td>\n",
       "      <td>204.003817</td>\n",
       "      <td>22</td>\n",
       "      <td>67</td>\n",
       "    </tr>\n",
       "    <tr>\n",
       "      <th>1</th>\n",
       "      <td>1</td>\n",
       "      <td>34.866901</td>\n",
       "      <td>1855.25</td>\n",
       "      <td>186.980360</td>\n",
       "      <td>8</td>\n",
       "      <td>30</td>\n",
       "    </tr>\n",
       "    <tr>\n",
       "      <th>2</th>\n",
       "      <td>1</td>\n",
       "      <td>36.980709</td>\n",
       "      <td>692.09</td>\n",
       "      <td>111.224999</td>\n",
       "      <td>24</td>\n",
       "      <td>24</td>\n",
       "    </tr>\n",
       "    <tr>\n",
       "      <th>3</th>\n",
       "      <td>1</td>\n",
       "      <td>17.445723</td>\n",
       "      <td>1399.49</td>\n",
       "      <td>237.998760</td>\n",
       "      <td>1</td>\n",
       "      <td>66</td>\n",
       "    </tr>\n",
       "    <tr>\n",
       "      <th>4</th>\n",
       "      <td>1</td>\n",
       "      <td>52.587646</td>\n",
       "      <td>84.65</td>\n",
       "      <td>100.996399</td>\n",
       "      <td>20</td>\n",
       "      <td>3</td>\n",
       "    </tr>\n",
       "    <tr>\n",
       "      <th>...</th>\n",
       "      <td>...</td>\n",
       "      <td>...</td>\n",
       "      <td>...</td>\n",
       "      <td>...</td>\n",
       "      <td>...</td>\n",
       "      <td>...</td>\n",
       "    </tr>\n",
       "    <tr>\n",
       "      <th>4303</th>\n",
       "      <td>9</td>\n",
       "      <td>175.166533</td>\n",
       "      <td>1299.71</td>\n",
       "      <td>217.739012</td>\n",
       "      <td>2</td>\n",
       "      <td>5</td>\n",
       "    </tr>\n",
       "    <tr>\n",
       "      <th>4304</th>\n",
       "      <td>6</td>\n",
       "      <td>215.352151</td>\n",
       "      <td>1346.36</td>\n",
       "      <td>77.724676</td>\n",
       "      <td>14</td>\n",
       "      <td>5</td>\n",
       "    </tr>\n",
       "    <tr>\n",
       "      <th>4305</th>\n",
       "      <td>5</td>\n",
       "      <td>299.563972</td>\n",
       "      <td>1585.37</td>\n",
       "      <td>235.537881</td>\n",
       "      <td>3</td>\n",
       "      <td>5</td>\n",
       "    </tr>\n",
       "    <tr>\n",
       "      <th>4306</th>\n",
       "      <td>1</td>\n",
       "      <td>29.193907</td>\n",
       "      <td>1896.23</td>\n",
       "      <td>147.223827</td>\n",
       "      <td>4</td>\n",
       "      <td>2</td>\n",
       "    </tr>\n",
       "    <tr>\n",
       "      <th>4307</th>\n",
       "      <td>2</td>\n",
       "      <td>54.437573</td>\n",
       "      <td>255.24</td>\n",
       "      <td>25.524020</td>\n",
       "      <td>18</td>\n",
       "      <td>0</td>\n",
       "    </tr>\n",
       "  </tbody>\n",
       "</table>\n",
       "<p>4308 rows × 6 columns</p>\n",
       "</div>"
      ],
      "text/plain": [
       "      bedroom_count     net_sqm  center_distance  metro_distance  floor  age\n",
       "0                 1   26.184098          1286.68      204.003817     22   67\n",
       "1                 1   34.866901          1855.25      186.980360      8   30\n",
       "2                 1   36.980709           692.09      111.224999     24   24\n",
       "3                 1   17.445723          1399.49      237.998760      1   66\n",
       "4                 1   52.587646            84.65      100.996399     20    3\n",
       "...             ...         ...              ...             ...    ...  ...\n",
       "4303              9  175.166533          1299.71      217.739012      2    5\n",
       "4304              6  215.352151          1346.36       77.724676     14    5\n",
       "4305              5  299.563972          1585.37      235.537881      3    5\n",
       "4306              1   29.193907          1896.23      147.223827      4    2\n",
       "4307              2   54.437573           255.24       25.524020     18    0\n",
       "\n",
       "[4308 rows x 6 columns]"
      ]
     },
     "execution_count": 12,
     "metadata": {},
     "output_type": "execute_result"
    }
   ],
   "source": [
    "x"
   ]
  },
  {
   "cell_type": "code",
   "execution_count": 13,
   "id": "34083ea6",
   "metadata": {},
   "outputs": [
    {
     "data": {
      "text/plain": [
       "0        96004.80456\n",
       "1        92473.72257\n",
       "2        98112.51994\n",
       "3        92118.32687\n",
       "4        98976.65318\n",
       "            ...     \n",
       "4303    102707.35620\n",
       "4304     99695.06499\n",
       "4305     93803.71562\n",
       "4306     92914.72913\n",
       "4307     93743.04729\n",
       "Name: price, Length: 4308, dtype: float64"
      ]
     },
     "execution_count": 13,
     "metadata": {},
     "output_type": "execute_result"
    }
   ],
   "source": [
    "y"
   ]
  },
  {
   "cell_type": "code",
   "execution_count": 16,
   "id": "e37df7f3",
   "metadata": {},
   "outputs": [],
   "source": [
    "scalar = StandardScaler()\n",
    "x_scaled = scalar.fit_transform(x)\n",
    "x_train, x_test, y_train, y_test = train_test_split(x_scaled, y, test_size=0.25, random_state=3)\n",
    "\n",
    "y_train = y_train.values.ravel()\n",
    "y_test = y_test.values.ravel()"
   ]
  },
  {
   "cell_type": "code",
   "execution_count": null,
   "id": "00a9d465",
   "metadata": {},
   "outputs": [],
   "source": []
  },
  {
   "cell_type": "code",
   "execution_count": null,
   "id": "3ade275d",
   "metadata": {},
   "outputs": [],
   "source": []
  }
 ],
 "metadata": {
  "kernelspec": {
   "display_name": "Python 3 (ipykernel)",
   "language": "python",
   "name": "python3"
  },
  "language_info": {
   "codemirror_mode": {
    "name": "ipython",
    "version": 3
   },
   "file_extension": ".py",
   "mimetype": "text/x-python",
   "name": "python",
   "nbconvert_exporter": "python",
   "pygments_lexer": "ipython3",
   "version": "3.11.4"
  }
 },
 "nbformat": 4,
 "nbformat_minor": 5
}
