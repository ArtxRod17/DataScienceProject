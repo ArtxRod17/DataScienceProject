{
 "cells": [
  {
   "cell_type": "markdown",
   "id": "f98b763c",
   "metadata": {},
   "source": [
    "Our project will be to analyze the Housing Market & Prices. \n",
    "\n",
    "The data will be retrived from: https://www.kaggle.com/datasets/rukenmissonnier/final-house\n"
   ]
  },
  {
   "cell_type": "code",
   "execution_count": 41,
   "id": "a0427e7d",
   "metadata": {},
   "outputs": [],
   "source": [
    "import pandas as pd\n",
    "import numpy as np\n",
    "import matplotlib.pyplot as plt\n",
    "from sklearn.tree import DecisionTreeClassifier\n",
    "from sklearn.model_selection import train_test_split\n",
    "from sklearn.preprocessing import StandardScaler\n",
    "from sklearn.linear_model import LogisticRegression\n",
    "from sklearn.metrics import accuracy_score"
   ]
  },
  {
   "cell_type": "markdown",
   "id": "6dbe1d0b",
   "metadata": {},
   "source": [
    "The Dataset is going to be a downloaded file called: house.csv"
   ]
  },
  {
   "cell_type": "code",
   "execution_count": 42,
   "id": "ea0ac222",
   "metadata": {},
   "outputs": [
    {
     "name": "stdout",
     "output_type": "stream",
     "text": [
      "\n",
      "HEAD OF THE DATAFRAME\n",
      "   bedroom_count    net_sqm  center_distance  metro_distance  floor  age  \\\n",
      "0              1  26.184098          1286.68      204.003817     22   67   \n",
      "1              1  34.866901          1855.25      186.980360      8   30   \n",
      "2              1  36.980709           692.09      111.224999     24   24   \n",
      "3              1  17.445723          1399.49      237.998760      1   66   \n",
      "4              1  52.587646            84.65      100.996399     20    3   \n",
      "\n",
      "         price  \n",
      "0  96004.80456  \n",
      "1  92473.72257  \n",
      "2  98112.51994  \n",
      "3  92118.32687  \n",
      "4  98976.65318  \n",
      "\n",
      "INFORMATION ABOUT THE DATAFRAME\n",
      "<class 'pandas.core.frame.DataFrame'>\n",
      "RangeIndex: 4308 entries, 0 to 4307\n",
      "Data columns (total 7 columns):\n",
      " #   Column           Non-Null Count  Dtype  \n",
      "---  ------           --------------  -----  \n",
      " 0   bedroom_count    4308 non-null   int64  \n",
      " 1   net_sqm          4308 non-null   float64\n",
      " 2   center_distance  4308 non-null   float64\n",
      " 3   metro_distance   4308 non-null   float64\n",
      " 4   floor            4308 non-null   int64  \n",
      " 5   age              4308 non-null   int64  \n",
      " 6   price            4308 non-null   float64\n",
      "dtypes: float64(4), int64(3)\n",
      "memory usage: 235.7 KB\n",
      "None\n"
     ]
    }
   ],
   "source": [
    "#Create dataframe from csv\n",
    "df = pd.read_csv(\"house.csv\")\n",
    "\n",
    "#Print the head of the dataframe\n",
    "print(\"\\nHEAD OF THE DATAFRAME\")\n",
    "print(df.head())\n",
    "\n",
    "#Print The information about the dataframe\n",
    "print(\"\\nINFORMATION ABOUT THE DATAFRAME\")\n",
    "print(df.info())\n"
   ]
  },
  {
   "cell_type": "markdown",
   "id": "3995d66d",
   "metadata": {},
   "source": [
    "Examining the Dataframe, We can see that the label is goiing to be a continous quantity. This means that we will have to use <b>Regression</b> to help predict a continuous quanitity, as opposed to classification which predicts discrete class labels."
   ]
  },
  {
   "cell_type": "markdown",
   "id": "1e059103",
   "metadata": {},
   "source": [
    "Next, We will create the feature matrix and the label vector"
   ]
  },
  {
   "cell_type": "code",
   "execution_count": 43,
   "id": "4c6a453b",
   "metadata": {},
   "outputs": [],
   "source": [
    "#Create feature matrix (X)\n",
    "X = df.drop('price', axis=1) # all features besides label\n",
    "\n",
    "#Create label vector (y)\n",
    "y = df['price'] #label"
   ]
  },
  {
   "cell_type": "code",
   "execution_count": 44,
   "id": "c72ad9bf",
   "metadata": {},
   "outputs": [
    {
     "data": {
      "text/html": [
       "<div>\n",
       "<style scoped>\n",
       "    .dataframe tbody tr th:only-of-type {\n",
       "        vertical-align: middle;\n",
       "    }\n",
       "\n",
       "    .dataframe tbody tr th {\n",
       "        vertical-align: top;\n",
       "    }\n",
       "\n",
       "    .dataframe thead th {\n",
       "        text-align: right;\n",
       "    }\n",
       "</style>\n",
       "<table border=\"1\" class=\"dataframe\">\n",
       "  <thead>\n",
       "    <tr style=\"text-align: right;\">\n",
       "      <th></th>\n",
       "      <th>bedroom_count</th>\n",
       "      <th>net_sqm</th>\n",
       "      <th>center_distance</th>\n",
       "      <th>metro_distance</th>\n",
       "      <th>floor</th>\n",
       "      <th>age</th>\n",
       "    </tr>\n",
       "  </thead>\n",
       "  <tbody>\n",
       "    <tr>\n",
       "      <th>0</th>\n",
       "      <td>1</td>\n",
       "      <td>26.184098</td>\n",
       "      <td>1286.68</td>\n",
       "      <td>204.003817</td>\n",
       "      <td>22</td>\n",
       "      <td>67</td>\n",
       "    </tr>\n",
       "    <tr>\n",
       "      <th>1</th>\n",
       "      <td>1</td>\n",
       "      <td>34.866901</td>\n",
       "      <td>1855.25</td>\n",
       "      <td>186.980360</td>\n",
       "      <td>8</td>\n",
       "      <td>30</td>\n",
       "    </tr>\n",
       "    <tr>\n",
       "      <th>2</th>\n",
       "      <td>1</td>\n",
       "      <td>36.980709</td>\n",
       "      <td>692.09</td>\n",
       "      <td>111.224999</td>\n",
       "      <td>24</td>\n",
       "      <td>24</td>\n",
       "    </tr>\n",
       "    <tr>\n",
       "      <th>3</th>\n",
       "      <td>1</td>\n",
       "      <td>17.445723</td>\n",
       "      <td>1399.49</td>\n",
       "      <td>237.998760</td>\n",
       "      <td>1</td>\n",
       "      <td>66</td>\n",
       "    </tr>\n",
       "    <tr>\n",
       "      <th>4</th>\n",
       "      <td>1</td>\n",
       "      <td>52.587646</td>\n",
       "      <td>84.65</td>\n",
       "      <td>100.996399</td>\n",
       "      <td>20</td>\n",
       "      <td>3</td>\n",
       "    </tr>\n",
       "    <tr>\n",
       "      <th>...</th>\n",
       "      <td>...</td>\n",
       "      <td>...</td>\n",
       "      <td>...</td>\n",
       "      <td>...</td>\n",
       "      <td>...</td>\n",
       "      <td>...</td>\n",
       "    </tr>\n",
       "    <tr>\n",
       "      <th>4303</th>\n",
       "      <td>9</td>\n",
       "      <td>175.166533</td>\n",
       "      <td>1299.71</td>\n",
       "      <td>217.739012</td>\n",
       "      <td>2</td>\n",
       "      <td>5</td>\n",
       "    </tr>\n",
       "    <tr>\n",
       "      <th>4304</th>\n",
       "      <td>6</td>\n",
       "      <td>215.352151</td>\n",
       "      <td>1346.36</td>\n",
       "      <td>77.724676</td>\n",
       "      <td>14</td>\n",
       "      <td>5</td>\n",
       "    </tr>\n",
       "    <tr>\n",
       "      <th>4305</th>\n",
       "      <td>5</td>\n",
       "      <td>299.563972</td>\n",
       "      <td>1585.37</td>\n",
       "      <td>235.537881</td>\n",
       "      <td>3</td>\n",
       "      <td>5</td>\n",
       "    </tr>\n",
       "    <tr>\n",
       "      <th>4306</th>\n",
       "      <td>1</td>\n",
       "      <td>29.193907</td>\n",
       "      <td>1896.23</td>\n",
       "      <td>147.223827</td>\n",
       "      <td>4</td>\n",
       "      <td>2</td>\n",
       "    </tr>\n",
       "    <tr>\n",
       "      <th>4307</th>\n",
       "      <td>2</td>\n",
       "      <td>54.437573</td>\n",
       "      <td>255.24</td>\n",
       "      <td>25.524020</td>\n",
       "      <td>18</td>\n",
       "      <td>0</td>\n",
       "    </tr>\n",
       "  </tbody>\n",
       "</table>\n",
       "<p>4308 rows × 6 columns</p>\n",
       "</div>"
      ],
      "text/plain": [
       "      bedroom_count     net_sqm  center_distance  metro_distance  floor  age\n",
       "0                 1   26.184098          1286.68      204.003817     22   67\n",
       "1                 1   34.866901          1855.25      186.980360      8   30\n",
       "2                 1   36.980709           692.09      111.224999     24   24\n",
       "3                 1   17.445723          1399.49      237.998760      1   66\n",
       "4                 1   52.587646            84.65      100.996399     20    3\n",
       "...             ...         ...              ...             ...    ...  ...\n",
       "4303              9  175.166533          1299.71      217.739012      2    5\n",
       "4304              6  215.352151          1346.36       77.724676     14    5\n",
       "4305              5  299.563972          1585.37      235.537881      3    5\n",
       "4306              1   29.193907          1896.23      147.223827      4    2\n",
       "4307              2   54.437573           255.24       25.524020     18    0\n",
       "\n",
       "[4308 rows x 6 columns]"
      ]
     },
     "execution_count": 44,
     "metadata": {},
     "output_type": "execute_result"
    }
   ],
   "source": [
    "#Print X to view feature matrix\n",
    "X"
   ]
  },
  {
   "cell_type": "code",
   "execution_count": 45,
   "id": "34083ea6",
   "metadata": {},
   "outputs": [
    {
     "data": {
      "text/plain": [
       "0        96004.80456\n",
       "1        92473.72257\n",
       "2        98112.51994\n",
       "3        92118.32687\n",
       "4        98976.65318\n",
       "            ...     \n",
       "4303    102707.35620\n",
       "4304     99695.06499\n",
       "4305     93803.71562\n",
       "4306     92914.72913\n",
       "4307     93743.04729\n",
       "Name: price, Length: 4308, dtype: float64"
      ]
     },
     "execution_count": 45,
     "metadata": {},
     "output_type": "execute_result"
    }
   ],
   "source": [
    "#Print y to view label vector\n",
    "y"
   ]
  },
  {
   "cell_type": "markdown",
   "id": "80e18526",
   "metadata": {},
   "source": [
    "We can see here that the label vector are all floats. Therfore we must use a regression algorithm.\n",
    "\n",
    "We will start by splitting the dataset into testing and training sets."
   ]
  },
  {
   "cell_type": "code",
   "execution_count": 46,
   "id": "e37df7f3",
   "metadata": {},
   "outputs": [],
   "source": [
    "#Split the dataset into training and testing sets.\n",
    "X_train, X_test, y_train, y_test = train_test_split(X, y, test_size=0.24, random_state=9)"
   ]
  },
  {
   "cell_type": "markdown",
   "id": "b1f1e089",
   "metadata": {},
   "source": [
    "Since we are working with a continous label, we need to normalize the features."
   ]
  },
  {
   "cell_type": "code",
   "execution_count": 47,
   "id": "66da166d",
   "metadata": {},
   "outputs": [],
   "source": [
    "#Normalize(Scale) the features\n",
    "scaler = StandardScaler()\n",
    "#Normalize the Features and not the target!!!!\n",
    "X_train_normalized = scaler.fit_transform(X_train)\n",
    "X_test_normalized = scaler.transform(X_test)"
   ]
  },
  {
   "cell_type": "markdown",
   "id": "5f03dc7a",
   "metadata": {},
   "source": [
    "We will now be using a linear regression model on the training set\n"
   ]
  },
  {
   "cell_type": "code",
   "execution_count": 48,
   "id": "3ade275d",
   "metadata": {},
   "outputs": [
    {
     "name": "stdout",
     "output_type": "stream",
     "text": [
      "95654.30497786804\n",
      "[  663.19514902  2469.87126012 -1883.76039318   449.13956523\n",
      "   936.31093355  -694.45735193]\n"
     ]
    }
   ],
   "source": [
    "#import\n",
    "from sklearn.linear_model import LinearRegression\n",
    "\n",
    "#instatiate object\n",
    "my_linreg = LinearRegression()\n",
    "\n",
    "#train on training set with normalized x_train\n",
    "my_linreg.fit(X_train_normalized, y_train)\n",
    "\n",
    "#Check the coeeficients of the linear regression model\n",
    "print(my_linreg.intercept_)\n",
    "\n",
    "# printing [Theta1, Theta2, Theta3] using attribute \"coef_\":\n",
    "print(my_linreg.coef_)"
   ]
  },
  {
   "cell_type": "markdown",
   "id": "79dd8857",
   "metadata": {},
   "source": [
    "Using the data we can conclude that the most important feature given is the (net_sqm) feature!\n",
    "\n",
    "Next we will predict price for the testing set"
   ]
  },
  {
   "cell_type": "code",
   "execution_count": 49,
   "id": "7875aabb",
   "metadata": {},
   "outputs": [
    {
     "name": "stdout",
     "output_type": "stream",
     "text": [
      "[ 95992.2180046   91427.61766554  95487.04144494 ...  95509.20639007\n",
      " 105580.2184072   91807.49711338]\n"
     ]
    }
   ],
   "source": [
    "#predict\n",
    "y_prediction = my_linreg.predict(X_test_normalized)\n",
    "\n",
    "print(y_prediction)"
   ]
  },
  {
   "cell_type": "code",
   "execution_count": 50,
   "id": "73545bb6",
   "metadata": {},
   "outputs": [
    {
     "name": "stdout",
     "output_type": "stream",
     "text": [
      "RMSE: 2262.032233241182\n"
     ]
    }
   ],
   "source": [
    "#import metrics\n",
    "from sklearn import metrics\n",
    "#compare the predicted balance with the actual balance by calculating and reporting the RMSE\n",
    "\n",
    "#calculating MSE\n",
    "mse = metrics.mean_squared_error(y_test, y_prediction)\n",
    "\n",
    "#use numpy to find RMMSE\n",
    "rmse = np.sqrt(mse)\n",
    "\n",
    "#print out rmse\n",
    "print(\"RMSE:\",rmse)\n"
   ]
  },
  {
   "cell_type": "markdown",
   "id": "8b9e373e",
   "metadata": {},
   "source": [
    "We will now use 10-fold cross-validation to evaluate the performance of a linear regression in predicting the price."
   ]
  },
  {
   "cell_type": "code",
   "execution_count": 51,
   "id": "6db40f6e",
   "metadata": {},
   "outputs": [
    {
     "name": "stdout",
     "output_type": "stream",
     "text": [
      "[1301.69414799 1305.86450344 1308.7002405  1325.13874027 1295.25423899\n",
      " 1318.09791853 1445.54793491 1468.68923988 3411.30547229 4607.86606463]\n",
      "RMSE with 10-fold Cross-Validation: 1878.8158501438634\n"
     ]
    }
   ],
   "source": [
    "#import pipeline and cross core from sklearn\n",
    "from sklearn.pipeline import make_pipeline\n",
    "from sklearn.model_selection import cross_val_score\n",
    "clf = make_pipeline(StandardScaler(), my_linreg)\n",
    "#make sure to use normalized\n",
    "mse_list = cross_val_score(clf, X, y, cv=10, scoring='neg_mean_squared_error')\n",
    "\n",
    "#make mse postitive to calc rmse\n",
    "mse_list_positive = -mse_list\n",
    "\n",
    "#use numpy to calculate rmse\n",
    "rmse_list = np.sqrt(mse_list_positive)\n",
    "print(rmse_list)\n",
    "\n",
    "#caclculate the mean\n",
    "print(\"RMSE with 10-fold Cross-Validation:\",rmse_list.mean())"
   ]
  },
  {
   "cell_type": "markdown",
   "id": "08447294",
   "metadata": {},
   "source": [
    "decision tree regression"
   ]
  },
  {
   "cell_type": "code",
   "execution_count": null,
   "id": "0aa4da54",
   "metadata": {},
   "outputs": [
    {
     "name": "stdout",
     "output_type": "stream",
     "text": [
      "SVR()\n",
      "[95396.38729374 95134.7895833  95421.04877561 ... 95403.70552264\n",
      " 95593.08359837 95057.46877351] \n",
      "\n",
      "SVR() RMSE: 3888.5749834801104 \n",
      "\n",
      "[3437.58647249 3013.59104686 2905.22035677 2731.1755471  2863.5459595\n",
      " 3161.92804803 3535.14362138 5621.79248334 5352.51114144 4813.1095101 ] \n",
      "\n",
      "SVR()RMSE with 10-fold Cross-Validation: 3743.560418700774 \n",
      "\n",
      "SGDRegressor()\n",
      "[ 96070.03651226  91476.99698898  95487.57191247 ...  95523.08461913\n",
      " 105481.04588079  91840.70145372] \n",
      "\n",
      "SGDRegressor() RMSE: 2261.7194667657322 \n",
      "\n",
      "[1298.67167935 1305.97133293 1309.41474781 1331.99982524 1294.91519224\n",
      " 1316.59951242 1439.53881978 1476.95195814 3418.54247598 4621.58918583] \n",
      "\n",
      "SGDRegressor()RMSE with 10-fold Cross-Validation: 1881.4194729738235 \n",
      "\n",
      "BayesianRidge()\n",
      "[ 95990.50505427  91430.49580888  95489.82750302 ...  95509.33465641\n",
      " 105573.03866484  91809.53795716] \n",
      "\n",
      "BayesianRidge() RMSE: 2261.6787483247454 \n",
      "\n",
      "[1302.30468753 1306.71065968 1309.52040679 1325.94246859 1296.15881076\n",
      " 1319.2101156  1446.94487387 1470.62328963 3410.40927964 4606.54441064] \n",
      "\n",
      "BayesianRidge()RMSE with 10-fold Cross-Validation: 1879.436900272765 \n",
      "\n",
      "LassoLars()\n",
      "[ 95989.29772634  91430.83666973  95484.0807769  ...  95511.78334188\n",
      " 105573.27998512  91812.25703401] \n",
      "\n",
      "LassoLars() RMSE: 2261.9126261795245 \n",
      "\n",
      "[1302.49467307 1307.02195384 1309.76980347 1326.154298   1296.4710132\n",
      " 1319.17852445 1446.51806937 1469.97138488 3409.99057401 4605.83740225] \n",
      "\n",
      "LassoLars()RMSE with 10-fold Cross-Validation: 1879.3407696541822 \n",
      "\n",
      "ARDRegression()\n",
      "[ 95988.25336874  91430.55693549  95475.87075378 ...  95515.63459336\n",
      " 105571.78216008  91815.93060738] \n",
      "\n",
      "ARDRegression() RMSE: 2262.164631110806 \n",
      "\n",
      "[1303.07636167 1307.73941011 1310.52142272 1326.68055168 1297.168964\n",
      " 1319.36602908 1446.52306021 1469.68412545 3410.15622619 4607.22439497] \n",
      "\n",
      "ARDRegression()RMSE with 10-fold Cross-Validation: 1879.8140546077636 \n",
      "\n",
      "PassiveAggressiveRegressor()\n",
      "[ 96133.52189784  91266.0217841   95413.38718609 ...  95454.16972588\n",
      " 106630.55544309  91577.51261463] \n",
      "\n",
      "PassiveAggressiveRegressor() RMSE: 2331.1908322802224 \n",
      "\n",
      "[1218.96738768 1195.7226588  1189.49054911 1221.50337961 1181.90428046\n",
      " 1174.75045448 1256.84835808 1189.0044958  3568.34392374 4751.40884497] \n",
      "\n",
      "PassiveAggressiveRegressor()RMSE with 10-fold Cross-Validation: 1794.7944332725012 \n",
      "\n",
      "TheilSenRegressor()\n",
      "[ 96110.63142495  91340.03478002  95281.69226558 ...  95507.82461541\n",
      " 106418.52639392  91707.06436798] \n",
      "\n",
      "TheilSenRegressor() RMSE: 2324.5486902100492 \n",
      "\n"
     ]
    }
   ],
   "source": [
    "import numpy as np\n",
    "from sklearn import linear_model\n",
    "from sklearn import svm\n",
    "\n",
    "classifiers = [\n",
    "    svm.SVR(),\n",
    "    linear_model.SGDRegressor(),\n",
    "    linear_model.BayesianRidge(),\n",
    "    linear_model.LassoLars(),\n",
    "    linear_model.ARDRegression(),\n",
    "    linear_model.PassiveAggressiveRegressor(),\n",
    "    linear_model.TheilSenRegressor(),\n",
    "    linear_model.LinearRegression()]\n",
    "\n",
    "\n",
    "from sklearn import metrics\n",
    "from sklearn import metrics\n",
    "\n",
    "for item in classifiers:\n",
    "    print(item)\n",
    "    clf = item\n",
    "    clf.fit(X_train_normalized, y_train)\n",
    "    print(clf.predict(X_test_normalized),'\\n')\n",
    "    y_prediction = clf.predict(X_test_normalized)\n",
    "\n",
    "    mse = metrics.mean_squared_error(y_test, y_prediction)\n",
    "\n",
    "#use numpy to find RMMSE\n",
    "    rmse = np.sqrt(mse)\n",
    "\n",
    "#print out rmse\n",
    "    print(str(item)+\" RMSE:\",rmse, '\\n')\n",
    "    \n",
    "    clf = make_pipeline(StandardScaler(), clf)\n",
    "    #make sure to use normalized\n",
    "    mse_list = cross_val_score(clf, X, y, cv=10, scoring='neg_mean_squared_error')\n",
    "\n",
    "    #make mse postitive to calc rmse\n",
    "    mse_list_positive = -mse_list\n",
    "\n",
    "    #use numpy to calculate rmse\n",
    "    rmse_list = np.sqrt(mse_list_positive)\n",
    "    print(rmse_list , '\\n')\n",
    "\n",
    "    #caclculate the mean\n",
    "    print(str(item)+\" RMSE with 10-fold Cross-Validation:\",rmse_list.mean(), '\\n')"
   ]
  },
  {
   "cell_type": "markdown",
   "id": "8d8d1533",
   "metadata": {},
   "source": []
  },
  {
   "cell_type": "code",
   "execution_count": null,
   "id": "7cd8aca0",
   "metadata": {},
   "outputs": [],
   "source": []
  },
  {
   "cell_type": "code",
   "execution_count": null,
   "id": "cdabed1d",
   "metadata": {},
   "outputs": [],
   "source": [
    "\n"
   ]
  }
 ],
 "metadata": {
  "kernelspec": {
   "display_name": "Python 3 (ipykernel)",
   "language": "python",
   "name": "python3"
  },
  "language_info": {
   "codemirror_mode": {
    "name": "ipython",
    "version": 3
   },
   "file_extension": ".py",
   "mimetype": "text/x-python",
   "name": "python",
   "nbconvert_exporter": "python",
   "pygments_lexer": "ipython3",
   "version": "3.11.4"
  }
 },
 "nbformat": 4,
 "nbformat_minor": 5
}
